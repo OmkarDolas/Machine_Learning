{
 "cells": [
  {
   "cell_type": "markdown",
   "metadata": {},
   "source": [
    "Variables\n",
    "\n",
    "Variables are fundamental elements in programming used to store data that can be referrenced and manipulated in a program. In Pyhton , varibales are created when you assign a value to them, and they do not need explicit to reserve memory space. The Declaration happens automatically when you assign a value to a variable."
   ]
  },
  {
   "cell_type": "code",
   "execution_count": 1,
   "metadata": {},
   "outputs": [],
   "source": [
    "a=100"
   ]
  },
  {
   "cell_type": "code",
   "execution_count": 2,
   "metadata": {},
   "outputs": [
    {
     "name": "stdout",
     "output_type": "stream",
     "text": [
      "age : 25\n",
      "Height : 5.9\n",
      "Name : Omkar\n"
     ]
    }
   ],
   "source": [
    "## Declaring and Assigning a variables\n",
    "\n",
    "age=25\n",
    "height=5.9\n",
    "name=\"Omkar\"\n",
    "is_student=True\n",
    "\n",
    "\n",
    "print(\"age :\",age)\n",
    "print(\"Height :\", height)\n",
    "print(\"Name :\", name)\n",
    "\n"
   ]
  },
  {
   "cell_type": "code",
   "execution_count": 3,
   "metadata": {},
   "outputs": [],
   "source": [
    "## Naming Conventations\n",
    "## Varible name should be descriptive\n",
    "## They must start with a letter or an '_'  and contain letter, number and uderscores\n",
    "## Varibles names are case sensitive\n",
    "\n",
    "#Valid variable name\n",
    "first_name=\"Omkar\"\n",
    "last_name=\"Dolas\"\n"
   ]
  },
  {
   "cell_type": "code",
   "execution_count": 6,
   "metadata": {},
   "outputs": [
    {
     "ename": "SyntaxError",
     "evalue": "invalid syntax. Maybe you meant '==' or ':=' instead of '='? (3587849715.py, line 4)",
     "output_type": "error",
     "traceback": [
      "\u001b[1;36m  Cell \u001b[1;32mIn[6], line 4\u001b[1;36m\u001b[0m\n\u001b[1;33m    @name=\"Omkar\"\u001b[0m\n\u001b[1;37m     ^\u001b[0m\n\u001b[1;31mSyntaxError\u001b[0m\u001b[1;31m:\u001b[0m invalid syntax. Maybe you meant '==' or ':=' instead of '='?\n"
     ]
    }
   ],
   "source": [
    "# Invalid variable names\n",
    "# 2age=25\n",
    "# first-name=\"Omkar\"\n",
    "# @name=\"Omkar\""
   ]
  },
  {
   "cell_type": "code",
   "execution_count": 8,
   "metadata": {},
   "outputs": [
    {
     "data": {
      "text/plain": [
       "False"
      ]
     },
     "execution_count": 8,
     "metadata": {},
     "output_type": "execute_result"
    }
   ],
   "source": [
    "## case Sensitivty\n",
    "name=\"Omkar\"\n",
    "Name=\"Dolas\"\n",
    "\n",
    "name==Name"
   ]
  },
  {
   "cell_type": "code",
   "execution_count": 9,
   "metadata": {},
   "outputs": [
    {
     "name": "stdout",
     "output_type": "stream",
     "text": [
      "<class 'str'>\n"
     ]
    }
   ],
   "source": [
    "## Understanding Varible Types\n",
    "## python is dynamically typed,type of variable is determined at runtime\n",
    "age=25 # Int\n",
    "height=5.9 #float\n",
    "name=\"Omkar\" #str\n",
    "is_student=True # bool\n",
    "\n",
    "print(type(Name))\n"
   ]
  },
  {
   "cell_type": "code",
   "execution_count": 13,
   "metadata": {},
   "outputs": [
    {
     "name": "stdout",
     "output_type": "stream",
     "text": [
      "<class 'int'>\n",
      "25\n",
      "<class 'str'>\n"
     ]
    }
   ],
   "source": [
    "## Type checking and conversion\n",
    "type(height)\n",
    "age=25\n",
    "print(type(age))\n",
    "# Type Conversion\n",
    "age_str=str(age)\n",
    "print(age_str)\n",
    "print(type(age_str))"
   ]
  },
  {
   "cell_type": "code",
   "execution_count": 15,
   "metadata": {},
   "outputs": [
    {
     "name": "stdout",
     "output_type": "stream",
     "text": [
      "<class 'int'>\n"
     ]
    }
   ],
   "source": [
    "age='25'\n",
    "print(type(int(age)))"
   ]
  },
  {
   "cell_type": "code",
   "execution_count": null,
   "metadata": {},
   "outputs": [
    {
     "ename": "ValueError",
     "evalue": "invalid literal for int() with base 10: 'Omkar'",
     "output_type": "error",
     "traceback": [
      "\u001b[1;31m---------------------------------------------------------------------------\u001b[0m",
      "\u001b[1;31mValueError\u001b[0m                                Traceback (most recent call last)",
      "Cell \u001b[1;32mIn[17], line 2\u001b[0m\n\u001b[0;32m      1\u001b[0m name\u001b[38;5;241m=\u001b[39m\u001b[38;5;124m\"\u001b[39m\u001b[38;5;124mOmkar\u001b[39m\u001b[38;5;124m\"\u001b[39m\n\u001b[1;32m----> 2\u001b[0m \u001b[38;5;28;43mint\u001b[39;49m\u001b[43m(\u001b[49m\u001b[43mname\u001b[49m\u001b[43m)\u001b[49m\n\u001b[0;32m      3\u001b[0m \u001b[38;5;28mprint\u001b[39m(\u001b[38;5;28mtype\u001b[39m(\u001b[38;5;28mstr\u001b[39m(name)))\n",
      "\u001b[1;31mValueError\u001b[0m: invalid literal for int() with base 10: 'Omkar'"
     ]
    }
   ],
   "source": [
    "## we cannot covert str to int\n",
    "name=\"Omkar\"\n",
    "int(name)\n",
    "print(type(str(name)))"
   ]
  },
  {
   "cell_type": "code",
   "execution_count": 23,
   "metadata": {},
   "outputs": [
    {
     "name": "stdout",
     "output_type": "stream",
     "text": [
      "<class 'float'>\n"
     ]
    },
    {
     "data": {
      "text/plain": [
       "5.0"
      ]
     },
     "execution_count": 23,
     "metadata": {},
     "output_type": "execute_result"
    }
   ],
   "source": [
    "height=5.9\n",
    "\n",
    "print(type(height))\n",
    "float(int(height))"
   ]
  },
  {
   "cell_type": "code",
   "execution_count": 27,
   "metadata": {},
   "outputs": [
    {
     "name": "stdout",
     "output_type": "stream",
     "text": [
      "10 <class 'int'>\n",
      "Hello <class 'str'>\n",
      "3.1 <class 'float'>\n"
     ]
    }
   ],
   "source": [
    "## Dynamic Typing\n",
    "## Pyhton allows type of varible to change as the program executes\n",
    "var=10\n",
    "print(var,type(var))\n",
    "var=\"Hello\"\n",
    "print(var, type(var))\n",
    "var=3.1\n",
    "print(var,type(var))"
   ]
  },
  {
   "cell_type": "code",
   "execution_count": 30,
   "metadata": {},
   "outputs": [
    {
     "name": "stdout",
     "output_type": "stream",
     "text": [
      "25 <class 'int'>\n"
     ]
    }
   ],
   "source": [
    "## input \n",
    "\n",
    "age=int(input(\"give me a value\"))\n",
    "print(age, type(age))"
   ]
  },
  {
   "cell_type": "code",
   "execution_count": 33,
   "metadata": {},
   "outputs": [
    {
     "name": "stdout",
     "output_type": "stream",
     "text": [
      "Sum : 15.0\n",
      "diff : -5.0\n",
      "product : 50.0\n",
      "quotient: 0.5\n"
     ]
    }
   ],
   "source": [
    "## calculator\n",
    "\n",
    "num1=float(input(\"Enetr a first Number :\"))\n",
    "num2=float(input(\"Enetr a Second Number :\"))\n",
    "\n",
    "sum=num1+num2\n",
    "diff=num1-num2\n",
    "product = num1*num2\n",
    "quotient= num1/num2\n",
    "\n",
    "print(\"Sum :\", sum)\n",
    "print(\"diff :\", diff)\n",
    "print(\"product :\", product)\n",
    "print(\"quotient:\", quotient)"
   ]
  },
  {
   "cell_type": "code",
   "execution_count": null,
   "metadata": {},
   "outputs": [],
   "source": []
  }
 ],
 "metadata": {
  "kernelspec": {
   "display_name": "Python 3",
   "language": "python",
   "name": "python3"
  },
  "language_info": {
   "codemirror_mode": {
    "name": "ipython",
    "version": 3
   },
   "file_extension": ".py",
   "mimetype": "text/x-python",
   "name": "python",
   "nbconvert_exporter": "python",
   "pygments_lexer": "ipython3",
   "version": "3.12.0"
  }
 },
 "nbformat": 4,
 "nbformat_minor": 2
}
