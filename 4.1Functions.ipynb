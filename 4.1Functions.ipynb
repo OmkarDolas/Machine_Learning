{
 "cells": [
  {
   "cell_type": "markdown",
   "metadata": {},
   "source": [
    "Introductions to functions\n",
    "\n",
    "Defination\n",
    "\n",
    "A function is block of code that performs a specific task. Functions helps in organizing code,reusing code,and improving readability."
   ]
  },
  {
   "cell_type": "code",
   "execution_count": 7,
   "metadata": {},
   "outputs": [],
   "source": [
    "## Syntax\n",
    "\n",
    "def funtion_name(paramenters):\n",
    "    \"\"\"Docstring\"\"\"\n",
    "    # Function body\n",
    "    return expression"
   ]
  },
  {
   "cell_type": "code",
   "execution_count": 8,
   "metadata": {},
   "outputs": [
    {
     "name": "stdout",
     "output_type": "stream",
     "text": [
      "The Number is Even\n"
     ]
    }
   ],
   "source": [
    "## why functions?\n",
    "n=24\n",
    "if n%2==0:\n",
    "        print(\"The Number is Even\")\n",
    "else:\n",
    "        print(\"The Number is odd\")"
   ]
  },
  {
   "cell_type": "code",
   "execution_count": 9,
   "metadata": {},
   "outputs": [
    {
     "name": "stdout",
     "output_type": "stream",
     "text": [
      "The Number is odd\n"
     ]
    }
   ],
   "source": [
    "\n",
    "def odd_even(n):\n",
    "    if n%2==0:\n",
    "        print(\"The Number is Even\")\n",
    "    else:\n",
    "        print(\"The Number is odd\")\n",
    "\n",
    "num=int(input(\"Eneter no\"))\n",
    "odd_even(num) ## Call the function"
   ]
  },
  {
   "cell_type": "code",
   "execution_count": 1,
   "metadata": {},
   "outputs": [
    {
     "name": "stdout",
     "output_type": "stream",
     "text": [
      "6\n"
     ]
    }
   ],
   "source": [
    "\n",
    "## Fuction with multiple parameter\n",
    "def add(a,b):\n",
    "    return a+b\n",
    "\n",
    "result=add(2,4)\n",
    "print(result)    \n"
   ]
  },
  {
   "cell_type": "code",
   "execution_count": 3,
   "metadata": {},
   "outputs": [
    {
     "name": "stdout",
     "output_type": "stream",
     "text": [
      "Hello Omkar Welcome to Python\n"
     ]
    }
   ],
   "source": [
    "def great(name):\n",
    "    print(f\"Hello {name} Welcome to Python\")\n",
    "\n",
    "great(\"Omkar\")"
   ]
  },
  {
   "cell_type": "code",
   "execution_count": 6,
   "metadata": {},
   "outputs": [
    {
     "name": "stdout",
     "output_type": "stream",
     "text": [
      "Hello Omkar Welcome to Python\n"
     ]
    }
   ],
   "source": [
    "def greet(name=\"UNH\"):\n",
    "    print(f\"Hello {name} Welcome to Python\")\n",
    "\n",
    "greet(\"Omkar\")\n"
   ]
  },
  {
   "cell_type": "code",
   "execution_count": 9,
   "metadata": {},
   "outputs": [
    {
     "name": "stdout",
     "output_type": "stream",
     "text": [
      "1\n",
      "2\n",
      "3\n",
      "4\n",
      "5\n",
      "6\n",
      "7\n",
      "Omkar\n"
     ]
    }
   ],
   "source": [
    "## Varibale length argument\n",
    "## Positional argument\n",
    "\n",
    "def print_no(*args):\n",
    "    for numbers in args:\n",
    "        print(numbers)\n",
    "\n",
    "print_no(1,2,3,4,5,6,7,\"Omkar\")\n",
    "\n"
   ]
  },
  {
   "cell_type": "code",
   "execution_count": 12,
   "metadata": {},
   "outputs": [
    {
     "name": "stdout",
     "output_type": "stream",
     "text": [
      "Name:Omkar\n",
      "age:25\n",
      "Country:India\n"
     ]
    }
   ],
   "source": [
    "## Keywords argument\n",
    "def print_data(**kwargs):\n",
    "    for key,value in kwargs.items():\n",
    "        print(f\"{key}:{value}\")\n",
    "\n",
    "print_data(Name=\"Omkar\",age=\"25\",Country=\"India\")"
   ]
  },
  {
   "cell_type": "code",
   "execution_count": 16,
   "metadata": {},
   "outputs": [
    {
     "name": "stdout",
     "output_type": "stream",
     "text": [
      "Positional arguments:1\n",
      "Positional arguments:2\n",
      "Positional arguments:3\n",
      "Name:Omkar\n",
      "age:25\n",
      "Country:India\n"
     ]
    }
   ],
   "source": [
    "def print_data(*args,**kwargs):\n",
    "    for val in args:\n",
    "        print(f\"Positional arguments:{val}\")\n",
    "\n",
    "    for key,value in kwargs.items():\n",
    "        print(f\"{key}:{value}\")\n",
    "\n",
    "print_data(1,2,3,Name=\"Omkar\",age=\"25\",Country=\"India\")"
   ]
  },
  {
   "cell_type": "code",
   "execution_count": 18,
   "metadata": {},
   "outputs": [
    {
     "data": {
      "text/plain": [
       "6"
      ]
     },
     "execution_count": 18,
     "metadata": {},
     "output_type": "execute_result"
    }
   ],
   "source": [
    "## Return Statement\n",
    "def multiply(a,b):\n",
    "    return a*b\n",
    "\n",
    "multiply(2,3)"
   ]
  },
  {
   "cell_type": "code",
   "execution_count": 20,
   "metadata": {},
   "outputs": [
    {
     "data": {
      "text/plain": [
       "(6, 2, 3)"
      ]
     },
     "execution_count": 20,
     "metadata": {},
     "output_type": "execute_result"
    }
   ],
   "source": [
    "## Return multiple parameter Statement\n",
    "def multiply(a,b):\n",
    "    return a*b,a,b\n",
    "\n",
    "multiply(2,3)"
   ]
  },
  {
   "cell_type": "code",
   "execution_count": null,
   "metadata": {},
   "outputs": [],
   "source": []
  }
 ],
 "metadata": {
  "kernelspec": {
   "display_name": "Python 3",
   "language": "python",
   "name": "python3"
  },
  "language_info": {
   "codemirror_mode": {
    "name": "ipython",
    "version": 3
   },
   "file_extension": ".py",
   "mimetype": "text/x-python",
   "name": "python",
   "nbconvert_exporter": "python",
   "pygments_lexer": "ipython3",
   "version": "3.12.0"
  }
 },
 "nbformat": 4,
 "nbformat_minor": 2
}
