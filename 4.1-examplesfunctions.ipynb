{
 "cells": [
  {
   "cell_type": "code",
   "execution_count": 5,
   "metadata": {},
   "outputs": [
    {
     "name": "stdout",
     "output_type": "stream",
     "text": [
      "14.0\n",
      "25.0\n"
     ]
    }
   ],
   "source": [
    "## Example 1 : temperature Conversion\n",
    "\n",
    "def covert_temp(temp,unit):\n",
    "    if unit==\"C\":\n",
    "        return temp*9/5+32 ## Celcisus to Fahrenheit\n",
    "    elif unit==\"F\":\n",
    "        return (temp-32)*5/9 ## fahrenheit to celsius\n",
    "    else:\n",
    "        return None\n",
    "\n",
    "print(covert_temp(-10,\"C\"))\n",
    "print(covert_temp(77,\"F\"))\n",
    "\n",
    "\n"
   ]
  },
  {
   "cell_type": "code",
   "execution_count": 12,
   "metadata": {},
   "outputs": [
    {
     "name": "stdout",
     "output_type": "stream",
     "text": [
      "False\n",
      "True\n"
     ]
    }
   ],
   "source": [
    "## Pasword Strenght Checker\n",
    "def Strong_pass(password):\n",
    "    \"\"\"This Function checks password is strong or not\"\"\"\n",
    "    if len(password)<=8:\n",
    "        return False\n",
    "    if not any(char.isdigit() for char in password):\n",
    "        return False\n",
    "    if not any(char.islower()for char in password):\n",
    "        return False\n",
    "    if not any(char.isupper() for char in password):\n",
    "        return False\n",
    "    if not any(char in '!@#$%^&*()_+' for char in password):\n",
    "        return False\n",
    "    return True\n",
    "\n",
    "## Call The fuction\n",
    "print(Strong_pass(\"Omkar1342\"))\n",
    "print(Strong_pass(\"Omkar@1342\"))\n",
    "\n"
   ]
  },
  {
   "cell_type": "code",
   "execution_count": 14,
   "metadata": {},
   "outputs": [
    {
     "name": "stdout",
     "output_type": "stream",
     "text": [
      "6.1\n"
     ]
    }
   ],
   "source": [
    "## Calculate the total cost of items in a shoppoing cart\n",
    "\n",
    "def Cal_total_cart(cart):\n",
    "    total_cost=0\n",
    "    for items in cart:\n",
    "        total_cost+=items['Price']*items['Qty']\n",
    "    return total_cost\n",
    "\n",
    "\n",
    "## Exapple of Cart Data\n",
    "cart=[\n",
    "    {'Name':'Apple','Price':0.5,'Qty':3},\n",
    "    {'Name':'Banana','Price':0.3,'Qty':6},\n",
    "    {'Name':'Orange','Price':0.7,'Qty':4}\n",
    "]\n",
    "\n",
    "## Calling function\n",
    "total_cart_cost=Cal_total_cart(cart)\n",
    "print(total_cart_cost)"
   ]
  },
  {
   "cell_type": "code",
   "execution_count": 18,
   "metadata": {},
   "outputs": [
    {
     "name": "stdout",
     "output_type": "stream",
     "text": [
      "True\n",
      "False\n"
     ]
    }
   ],
   "source": [
    "## Check If a string is Palindrome\n",
    "\n",
    "def is_palindrome(s):\n",
    "    s=s.lower().replace(\" \",\"\")\n",
    "    return s==s[::-1]\n",
    "\n",
    "print(is_palindrome(\"A Man a Plan a canal Panama\"))\n",
    "print(is_palindrome(\"Hello\"))"
   ]
  },
  {
   "cell_type": "code",
   "execution_count": 24,
   "metadata": {},
   "outputs": [
    {
     "name": "stdout",
     "output_type": "stream",
     "text": [
      "120\n"
     ]
    }
   ],
   "source": [
    "## calculate factorial of a number using recursion\n",
    "def Facto(n):\n",
    "    if n==0:\n",
    "        return 1\n",
    "    elif n==1:\n",
    "        return 1\n",
    "    else:\n",
    "        return n* Facto(n-1)\n",
    "    \n",
    "print(Facto(5))"
   ]
  },
  {
   "cell_type": "code",
   "execution_count": 28,
   "metadata": {},
   "outputs": [
    {
     "name": "stdout",
     "output_type": "stream",
     "text": [
      "{'hello': 2, 'my': 1, 'name': 1, 'is': 1, 'omkar': 1, 'how': 1, 'are': 1, 'you': 1, 'doing': 1, 'world': 1}\n"
     ]
    }
   ],
   "source": [
    "## A function to read a file and count the frequency of each word\n",
    "\n",
    "def Count_word_freq(file_path):\n",
    "    word_count={}\n",
    "    with open(file_path,'r') as file:\n",
    "        for line in file:\n",
    "            words=line.split()\n",
    "            for word in words:\n",
    "                word=word.lower().strip('.,!?:;\"\\'')\n",
    "                word_count[word]=word_count.get(word,0)+1\n",
    "\n",
    "    return word_count\n",
    "filepath='sample.txt'\n",
    "word_freq=Count_word_freq(filepath)\n",
    "print(word_freq)"
   ]
  },
  {
   "cell_type": "code",
   "execution_count": 33,
   "metadata": {},
   "outputs": [
    {
     "data": {
      "text/plain": [
       "True"
      ]
     },
     "execution_count": 33,
     "metadata": {},
     "output_type": "execute_result"
    }
   ],
   "source": [
    "## Validate Email Address\n",
    "##import re\n",
    "def validate_email(mail):\n",
    "    pattern=r'^[a-zA-z0-9.+-]+@[a-zA-Z0-9-]+\\.[a-zA-z0-9-.]+$'\n",
    "    return re.match(pattern,mail) is not None\n",
    "\n",
    "validate_email(\"Omkar@gmail.com\")"
   ]
  },
  {
   "cell_type": "code",
   "execution_count": null,
   "metadata": {},
   "outputs": [],
   "source": []
  }
 ],
 "metadata": {
  "kernelspec": {
   "display_name": "Python 3",
   "language": "python",
   "name": "python3"
  },
  "language_info": {
   "codemirror_mode": {
    "name": "ipython",
    "version": 3
   },
   "file_extension": ".py",
   "mimetype": "text/x-python",
   "name": "python",
   "nbconvert_exporter": "python",
   "pygments_lexer": "ipython3",
   "version": "3.12.0"
  }
 },
 "nbformat": 4,
 "nbformat_minor": 2
}
