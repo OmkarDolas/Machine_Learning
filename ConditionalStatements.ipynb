{
 "cells": [
  {
   "cell_type": "code",
   "execution_count": 8,
   "metadata": {},
   "outputs": [
    {
     "name": "stdout",
     "output_type": "stream",
     "text": [
      "Your are allowed to vote\n"
     ]
    }
   ],
   "source": [
    "## If Statement\n",
    "\n",
    "age=18\n",
    "\n",
    "if age<=22:\n",
    "    print(\"Your are allowed to vote\")\n",
    "else:\n",
    "    print(\"Your not allowed to vote\")"
   ]
  },
  {
   "cell_type": "code",
   "execution_count": 4,
   "metadata": {},
   "outputs": [
    {
     "name": "stdout",
     "output_type": "stream",
     "text": [
      "You are minor\n"
     ]
    }
   ],
   "source": [
    "## Else \n",
    "## The else statement executed a block of code if the condition in the if statement is false\n",
    "age=16\n",
    "if age>=18:\n",
    "    print(\"you are eligible for voting\")\n",
    "else:\n",
    "    print(\"You are minor\")\n",
    "\n",
    "    "
   ]
  },
  {
   "cell_type": "code",
   "execution_count": 8,
   "metadata": {},
   "outputs": [
    {
     "name": "stdout",
     "output_type": "stream",
     "text": [
      "Your a teen\n"
     ]
    }
   ],
   "source": [
    "## elif\n",
    "## the elif statement allows you to check multiple conditions. It stands for \"else if\"\n",
    "\n",
    "age=17\n",
    "if age<13:\n",
    "    print(\"Your a child\")\n",
    "elif age<18:\n",
    "    print(\"Your a teen\")\n",
    "else:\n",
    "    print(\"Your a adult\")"
   ]
  },
  {
   "cell_type": "code",
   "execution_count": 14,
   "metadata": {},
   "outputs": [
    {
     "name": "stdout",
     "output_type": "stream",
     "text": [
      "No is zero or Negative\n"
     ]
    }
   ],
   "source": [
    "## nested Conditional statements\n",
    "## we can place one or more if, elif, or else statement in another if, elif,or else statement to\n",
    "## Number even,odd negative\n",
    "num=int(input(\"ENter a number\"))\n",
    "\n",
    "if num>=0:\n",
    "    print(\"No is Positive\")\n",
    "    if num%2==0:\n",
    "        print(\"No is even\")\n",
    "    else:\n",
    "        print(\"No is odd\")\n",
    "else:\n",
    "    print(\"No is zero or Negative\")"
   ]
  },
  {
   "cell_type": "code",
   "execution_count": 21,
   "metadata": {},
   "outputs": [
    {
     "name": "stdout",
     "output_type": "stream",
     "text": [
      "2022 Year is not a leap year\n"
     ]
    }
   ],
   "source": [
    "## Use case\n",
    "## Your need to determine if year is leap using nested condition statement\n",
    "\n",
    "year=int(input(\"Enter a Year\"))\n",
    "\n",
    "if year%4==0:\n",
    "    if year%100==0:\n",
    "        if year%400==0:\n",
    "            print(year,\"Year is Leap\")\n",
    "        else:\n",
    "            print(year,\"year is not leap\")\n",
    "    else:\n",
    "        print(year,\"Year is a leap year\")\n",
    "else:\n",
    "    print(year,\"Year is not a leap year\")"
   ]
  },
  {
   "cell_type": "code",
   "execution_count": 24,
   "metadata": {},
   "outputs": [
    {
     "name": "stdout",
     "output_type": "stream",
     "text": [
      "Result 24.1\n"
     ]
    }
   ],
   "source": [
    "## Assignment \n",
    "## Simple calculator\n",
    "# Take user Input\n",
    "num1=float(input(\"Enter 1st NO\"))\n",
    "num2=float(input(\"Enter 2st NO\"))\n",
    "operation=input(\"Enter Operation like (+,-,*,/):\")\n",
    "\n",
    "# perform operation\n",
    "if operation=='+':\n",
    "    result=num1+num2\n",
    "elif operation=='-':\n",
    "    result=num1-num2\n",
    "elif operation=='*':\n",
    "    result=num1*num2\n",
    "elif operation=='/':\n",
    "    if num2 !=0:\n",
    "        result=num1/num2\n",
    "    else:\n",
    "        result=\"Error! Divide by Zero\"\n",
    "else:\n",
    "    result=\"Invalid Operation\"\n",
    "\n",
    "print(\"Result\", result)\n",
    "\n"
   ]
  },
  {
   "cell_type": "code",
   "execution_count": 25,
   "metadata": {},
   "outputs": [
    {
     "name": "stdout",
     "output_type": "stream",
     "text": [
      "Ticket Priee $18\n"
     ]
    }
   ],
   "source": [
    "## Determine the ticket price on age and whether the person is a student.\n",
    "\n",
    "age=int(input(\"Enter your age\"))\n",
    "is_student=input(\"Enter are you a student yes/no \")\n",
    "\n",
    "if age<5:\n",
    "    price=\"Free\"\n",
    "elif age<12:\n",
    "    price='$5'\n",
    "elif age<=17:\n",
    "    if is_student=='yes':\n",
    "        price='$12'\n",
    "    else:\n",
    "        price='$15'\n",
    "elif age<=64:\n",
    "    if is_student=='yes':\n",
    "        price='$18'\n",
    "    else:\n",
    "        price='$25'\n",
    "else:\n",
    "    price='$20'\n",
    "\n",
    "print(\"Ticket Priee\",price)"
   ]
  },
  {
   "cell_type": "code",
   "execution_count": null,
   "metadata": {},
   "outputs": [],
   "source": []
  }
 ],
 "metadata": {
  "kernelspec": {
   "display_name": "Python 3",
   "language": "python",
   "name": "python3"
  },
  "language_info": {
   "codemirror_mode": {
    "name": "ipython",
    "version": 3
   },
   "file_extension": ".py",
   "mimetype": "text/x-python",
   "name": "python",
   "nbconvert_exporter": "python",
   "pygments_lexer": "ipython3",
   "version": "3.12.0"
  }
 },
 "nbformat": 4,
 "nbformat_minor": 2
}
