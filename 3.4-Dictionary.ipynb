{
 "cells": [
  {
   "cell_type": "markdown",
   "metadata": {},
   "source": [
    "## Dictionary\n",
    "\n",
    "Dictionary are unordered collections of items. They store data in key-value pairs .Keys must be unique and immutabale while values can be of any type.\n"
   ]
  },
  {
   "cell_type": "code",
   "execution_count": 3,
   "metadata": {},
   "outputs": [
    {
     "name": "stdout",
     "output_type": "stream",
     "text": [
      "<class 'dict'>\n"
     ]
    }
   ],
   "source": [
    "## Creating a dictionary \n",
    "empty_dict={}\n",
    "print(type(empty_dict))"
   ]
  },
  {
   "cell_type": "code",
   "execution_count": 7,
   "metadata": {},
   "outputs": [
    {
     "name": "stdout",
     "output_type": "stream",
     "text": [
      "<class 'dict'>\n"
     ]
    }
   ],
   "source": [
    "empty_dict2=dict()\n",
    "empty_dict2\n",
    "print(type(empty_dict2))"
   ]
  },
  {
   "cell_type": "code",
   "execution_count": 10,
   "metadata": {},
   "outputs": [
    {
     "name": "stdout",
     "output_type": "stream",
     "text": [
      "{'name': 'omkar', 'age': 32, 'grade': 24}\n",
      "<class 'dict'>\n"
     ]
    }
   ],
   "source": [
    "student={\"name\":\"omkar\",\"age\":32,\"grade\":24}\n",
    "print(student)\n",
    "print(type(student))"
   ]
  },
  {
   "cell_type": "code",
   "execution_count": 12,
   "metadata": {},
   "outputs": [
    {
     "name": "stdout",
     "output_type": "stream",
     "text": [
      "{'name': 24, 'age': 32}\n"
     ]
    }
   ],
   "source": [
    "## Single key is always used\n",
    "\n",
    "student={\"name\":\"omkar\",\"age\":32,\"name\":24}\n",
    "print(student)"
   ]
  },
  {
   "cell_type": "code",
   "execution_count": 27,
   "metadata": {},
   "outputs": [
    {
     "name": "stdout",
     "output_type": "stream",
     "text": [
      "A\n",
      "32\n",
      "omkar\n",
      "A\n",
      "None\n",
      "Not Available\n"
     ]
    }
   ],
   "source": [
    "## Accessing dictionary elements\n",
    "student={\"name\":\"omkar\",\"age\":32,\"grade\":'A'}\n",
    "print(student['grade'])\n",
    "print(student['age'])\n",
    "print(student['name'])\n",
    "\n",
    "## Accessing using get() method\n",
    "print(student.get('grade'))\n",
    "print(student.get('last_name'))\n",
    "print(student.get('last_name',\"Not Available\"))"
   ]
  },
  {
   "cell_type": "code",
   "execution_count": 28,
   "metadata": {},
   "outputs": [
    {
     "name": "stdout",
     "output_type": "stream",
     "text": [
      "{'name': 'omkar', 'age': 32, 'grade': 'A'}\n",
      "{'name': 'omkar', 'age': 33, 'grade': 'A'}\n",
      "{'name': 'omkar', 'age': 33, 'grade': 'A', 'address': 'India'}\n",
      "{'name': 'omkar', 'age': 33, 'address': 'India'}\n"
     ]
    }
   ],
   "source": [
    "## Modfiying dictonary elements\n",
    "## Dictionary are mutable so you can add update or delete elements\n",
    "print(student)\n",
    "student[\"age\"]=33 # upadte value of key\n",
    "print(student)\n",
    "student[\"address\"]=\"India\" # added new key and value\n",
    "print(student)\n",
    "\n",
    "## delete key\n",
    "del student[\"grade\"] ## This will delete key and value paair\n",
    "print(student)\n"
   ]
  },
  {
   "cell_type": "code",
   "execution_count": 32,
   "metadata": {},
   "outputs": [
    {
     "name": "stdout",
     "output_type": "stream",
     "text": [
      "dict_keys(['name', 'age', 'address'])\n",
      "dict_values(['omkar', 33, 'India'])\n",
      "dict_items([('name', 'omkar'), ('age', 33), ('address', 'India')])\n"
     ]
    }
   ],
   "source": [
    "## dictionary Methods\n",
    "keys=student.keys() ## get all the keys\n",
    "print(keys)\n",
    "values=student.values() ## get all the values\n",
    "print(values)\n",
    "\n",
    "items=student.items() ## get all key value pair\n",
    "print(items)"
   ]
  },
  {
   "cell_type": "code",
   "execution_count": 33,
   "metadata": {},
   "outputs": [
    {
     "name": "stdout",
     "output_type": "stream",
     "text": [
      "{'name': 'omkar', 'age': 33, 'address': 'India'}\n",
      "{'name': 'omkar', 'age': 33, 'address': 'India'}\n"
     ]
    }
   ],
   "source": [
    "## Shallow copy\n",
    "\n",
    "stu_copy=student\n",
    "print(student)\n",
    "print(stu_copy)"
   ]
  },
  {
   "cell_type": "code",
   "execution_count": 37,
   "metadata": {},
   "outputs": [
    {
     "name": "stdout",
     "output_type": "stream",
     "text": [
      "{'name': 'omkar1', 'age': 33, 'address': 'India'}\n",
      "{'name': 'omkar1', 'age': 33, 'address': 'India'}\n",
      "{'name': 'omkar1', 'age': 33, 'address': 'India'}\n",
      "{'name': 'omkar1', 'age': 33, 'address': 'India'}\n",
      "{'name': 'omkar3', 'age': 33, 'address': 'India'}\n"
     ]
    }
   ],
   "source": [
    "student[\"name\"]=\"omkar1\"\n",
    "print(student)\n",
    "print(stu_copy)\n",
    "\n",
    "student_copy1=student.copy() ## Shallow copy\n",
    "print(student_copy1)\n",
    "student[\"name\"]=\"omkar3\"\n",
    "print(student_copy1)\n",
    "print(student)"
   ]
  },
  {
   "cell_type": "code",
   "execution_count": 40,
   "metadata": {},
   "outputs": [
    {
     "name": "stdout",
     "output_type": "stream",
     "text": [
      "name\n",
      "age\n",
      "address\n"
     ]
    }
   ],
   "source": [
    "## Iterating  over dictionary\n",
    "## You can use loops to iterate over dictionaries,key,values,or items\n",
    "\n",
    "## iterating over keys\n",
    "for s in student.keys():\n",
    "    print(s)\n",
    "\n"
   ]
  },
  {
   "cell_type": "code",
   "execution_count": 41,
   "metadata": {},
   "outputs": [
    {
     "name": "stdout",
     "output_type": "stream",
     "text": [
      "omkar3\n",
      "33\n",
      "India\n"
     ]
    }
   ],
   "source": [
    "## iterate over values\n",
    "for v in student.values():\n",
    "    print(v)"
   ]
  },
  {
   "cell_type": "code",
   "execution_count": 45,
   "metadata": {},
   "outputs": [
    {
     "name": "stdout",
     "output_type": "stream",
     "text": [
      "name:omkar3\n",
      "age:33\n",
      "address:India\n"
     ]
    }
   ],
   "source": [
    "## Iterate over key value pair\n",
    "\n",
    "for k,v in student.items():\n",
    "    print(f\"{k}:{v}\")"
   ]
  },
  {
   "cell_type": "code",
   "execution_count": 47,
   "metadata": {},
   "outputs": [
    {
     "name": "stdout",
     "output_type": "stream",
     "text": [
      "{'student1': {'name': 'Dolas', 'age': 25}, 'student2': {'name': 'rajesh', 'age': 30}}\n"
     ]
    }
   ],
   "source": [
    "## nested dictionaries\n",
    "students={\n",
    "    \"student1\":{\"name\":\"Dolas\",\"age\":25},\n",
    "    \"student2\":{\"name\":\"rajesh\",\"age\":30}\n",
    "}\n",
    "print(students)"
   ]
  },
  {
   "cell_type": "code",
   "execution_count": 51,
   "metadata": {},
   "outputs": [
    {
     "name": "stdout",
     "output_type": "stream",
     "text": [
      "rajesh\n",
      "30\n"
     ]
    }
   ],
   "source": [
    "## access nested dictionary\n",
    "print(students[\"student2\"][\"name\"])\n",
    "print(students[\"student2\"][\"age\"])"
   ]
  },
  {
   "cell_type": "code",
   "execution_count": 55,
   "metadata": {},
   "outputs": [
    {
     "name": "stdout",
     "output_type": "stream",
     "text": [
      "student1 {'name': 'Dolas', 'age': 25}\n",
      "name Dolas\n",
      "age 25\n",
      "student2 {'name': 'rajesh', 'age': 30}\n",
      "name rajesh\n",
      "age 30\n"
     ]
    }
   ],
   "source": [
    "## iterating over nested dictionaries\n",
    "\n",
    "for student_id,Std_info in students.items():\n",
    "    print(student_id,Std_info)\n",
    "    for key,val in Std_info.items():\n",
    "        print(key,val)"
   ]
  },
  {
   "cell_type": "code",
   "execution_count": 58,
   "metadata": {},
   "outputs": [
    {
     "name": "stdout",
     "output_type": "stream",
     "text": [
      "{0: 0, 1: 1, 2: 4, 3: 9, 4: 16}\n"
     ]
    }
   ],
   "source": [
    "## Dictionaries comprehension\n",
    "\n",
    "square={ x:x**2 for x in range(5)}\n",
    "print(square)"
   ]
  },
  {
   "cell_type": "code",
   "execution_count": 61,
   "metadata": {},
   "outputs": [
    {
     "name": "stdout",
     "output_type": "stream",
     "text": [
      "{0: 0, 2: 4, 4: 16, 6: 36, 8: 64}\n"
     ]
    }
   ],
   "source": [
    "## conditional dict comprehension\n",
    "\n",
    "even={x:x**2 for x in range(10) if x%2==0}\n",
    "print(even)"
   ]
  },
  {
   "cell_type": "code",
   "execution_count": 67,
   "metadata": {},
   "outputs": [
    {
     "name": "stdout",
     "output_type": "stream",
     "text": [
      "{1: 1, 2: 2, 3: 3, 4: 3}\n"
     ]
    }
   ],
   "source": [
    "## Use a dictionary to count frequency of elements in list\n",
    "numbers=[1,2,2,3,3,3,4,4,4]\n",
    "free={}\n",
    "for x in numbers:\n",
    "    if x in free:\n",
    "        free[x]+=1\n",
    "    else:\n",
    "        free[x]=1\n",
    "\n",
    "print(free)"
   ]
  },
  {
   "cell_type": "code",
   "execution_count": 69,
   "metadata": {},
   "outputs": [
    {
     "name": "stdout",
     "output_type": "stream",
     "text": [
      "{'a': 1, 'b': 3, 'c': 4}\n"
     ]
    }
   ],
   "source": [
    "## merge 2 dictionary into 1\n",
    "dict1={\"a\":1,\"b\":2}\n",
    "dict2={\"b\":3,\"c\":4}\n",
    "merge_dict={**dict1,**dict2}\n",
    "print(merge_dict)\n"
   ]
  },
  {
   "cell_type": "code",
   "execution_count": null,
   "metadata": {},
   "outputs": [],
   "source": []
  }
 ],
 "metadata": {
  "kernelspec": {
   "display_name": "Python 3",
   "language": "python",
   "name": "python3"
  },
  "language_info": {
   "codemirror_mode": {
    "name": "ipython",
    "version": 3
   },
   "file_extension": ".py",
   "mimetype": "text/x-python",
   "name": "python",
   "nbconvert_exporter": "python",
   "pygments_lexer": "ipython3",
   "version": "3.12.0"
  }
 },
 "nbformat": 4,
 "nbformat_minor": 2
}
