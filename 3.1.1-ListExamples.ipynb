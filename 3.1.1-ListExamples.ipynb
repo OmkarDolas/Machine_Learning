{
 "cells": [
  {
   "cell_type": "markdown",
   "metadata": {},
   "source": [
    "##### Real world Examples Using lists in python\n",
    "\n",
    "#### Example 1: Manage a TO DO List"
   ]
  },
  {
   "cell_type": "markdown",
   "metadata": {},
   "source": [
    " *Create a To DO list to Keep Track of tasks"
   ]
  },
  {
   "cell_type": "code",
   "execution_count": 2,
   "metadata": {},
   "outputs": [
    {
     "name": "stdout",
     "output_type": "stream",
     "text": [
      "Dont forgot to pay bills\n",
      "To do list remaining\n",
      "-Buy Groceries\n",
      "-Pay Bills\n",
      "-Schedule a Meeting\n",
      "-Go For a Run\n"
     ]
    }
   ],
   "source": [
    "to_do_list=[\"Buy Groceries\",\"Clean House\",\"Pay Bills\"]\n",
    "## Addind task to To do List\n",
    "to_do_list.append(\"Schedule a Meeting\")\n",
    "to_do_list.append(\"Go For a Run\")\n",
    "\n",
    "## remove a completed Task\n",
    "to_do_list.remove(\"Clean House\")\n",
    "\n",
    "## Checkimg task in the list\n",
    "if \"Pay Bills\" in to_do_list:\n",
    "    print(\"Dont forgot to pay bills\")\n",
    "\n",
    "print(\"To do list remaining\")\n",
    "for task in to_do_list:\n",
    "    print(f\"-{task}\")"
   ]
  },
  {
   "cell_type": "markdown",
   "metadata": {},
   "source": [
    "Example 2 : Organising Student Grade\n",
    "\n",
    "Create a list to store and calculate average grades for students"
   ]
  },
  {
   "cell_type": "code",
   "execution_count": 4,
   "metadata": {},
   "outputs": [
    {
     "name": "stdout",
     "output_type": "stream",
     "text": [
      "Average grade :88.00\n",
      "Highest Grade:95\n",
      "Lowest Grade:78\n"
     ]
    }
   ],
   "source": [
    "## Organizing student grades\n",
    "grades=[85,92,78,90,88]\n",
    "\n",
    "## adding a new grade\n",
    "grades.append(95)\n",
    "\n",
    "## Calculate average of grade\n",
    "avergae_grade=sum(grades)/len(grades)\n",
    "print(f\"Average grade :{avergae_grade:.2f}\")\n",
    "\n",
    "#finding the highest and lowest grade\n",
    "highest_grade=max(grades)\n",
    "lowest_grade=min(grades)\n",
    "print(f\"Highest Grade:{highest_grade}\")\n",
    "print(f\"Lowest Grade:{lowest_grade}\")\n"
   ]
  },
  {
   "cell_type": "markdown",
   "metadata": {},
   "source": [
    "Exmples 3: Managing a Inventory\n",
    "\n",
    "\n",
    "Use a list to manage inventory items in store\n"
   ]
  },
  {
   "cell_type": "code",
   "execution_count": 13,
   "metadata": {},
   "outputs": [
    {
     "name": "stdout",
     "output_type": "stream",
     "text": [
      "Oranges are in stock\n",
      "inventory List\n",
      "-Apples\n",
      "-Oranges\n",
      "-Grapes\n",
      "-Strawberries\n"
     ]
    }
   ],
   "source": [
    "#Manging an inventory\n",
    "inventory=[\"Apples\",\"Bananas\",\"Oranges\",\"Grapes\"]\n",
    "\n",
    "#adding a new item\n",
    "inventory.append(\"Strawberries\")\n",
    "\n",
    "# removing an item taht is out of stock\n",
    "inventory.remove(\"Bananas\")\n",
    "\n",
    "#checking if an item is in stock\n",
    "item=\"Oranges\"\n",
    "if item in inventory:\n",
    "    print(f\"{item} are in stock\")\n",
    "else:\n",
    "    print(f\"{item} are in not stock\")\n",
    "\n",
    "print(\"inventory List\")\n",
    "for item in inventory: \n",
    "    print(f\"-{item}\")"
   ]
  },
  {
   "cell_type": "code",
   "execution_count": null,
   "metadata": {},
   "outputs": [],
   "source": []
  }
 ],
 "metadata": {
  "kernelspec": {
   "display_name": "Python 3",
   "language": "python",
   "name": "python3"
  },
  "language_info": {
   "codemirror_mode": {
    "name": "ipython",
    "version": 3
   },
   "file_extension": ".py",
   "mimetype": "text/x-python",
   "name": "python",
   "nbconvert_exporter": "python",
   "pygments_lexer": "ipython3",
   "version": "3.12.0"
  }
 },
 "nbformat": 4,
 "nbformat_minor": 2
}
